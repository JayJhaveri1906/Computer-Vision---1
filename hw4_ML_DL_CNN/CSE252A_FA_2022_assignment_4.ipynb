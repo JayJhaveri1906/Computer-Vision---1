{
  "cells": [
    {
      "cell_type": "markdown",
      "metadata": {
        "id": "y3Jp_VhCl4te",
        "tags": []
      },
      "source": [
        "# CSE 252A Computer Vision I Fall 2022 - Assignment 4"
      ]
    },
    {
      "cell_type": "markdown",
      "metadata": {
        "id": "gISBijp3l4ti",
        "tags": []
      },
      "source": [
        "## Instructor: Ben Ochoa\n",
        "\n",
        "- Due: **Wed, November 30, 2022 11:59 PM**."
      ]
    },
    {
      "cell_type": "markdown",
      "metadata": {
        "id": "FOXXS2dOl4tj",
        "tags": []
      },
      "source": [
        "## Instructions\n",
        "* This assignment must be completed **individually**. For more details, please follow the Academic Integrity Policy and Collaboration Policy on [Canvas](https://canvas.ucsd.edu).\n",
        "* All solutions must be written in this notebook.\n",
        "  * **If** it includes the theoretical problems, you **must** write your answers in Markdown cells (using LaTeX when appropriate).\n",
        "  * Programming aspects of the assignment must be completed using Python in this notebook.\n",
        "* You may use Python packages (such as `NumPy` and `SciPy`) for basic linear algebra, but you may not use packages that directly solve the problem.\n",
        "  * If you are unsure about using a specific package or function, then ask the instructor and/or teaching assistants for clarification.\n",
        "* You must submit this notebook exported as a PDF that contains separate pages. You must also submit this notebook as `.ipynb` file.\n",
        "  * Submit both files (`.pdf` and `.ipynb`) on Gradescope.\n",
        "  * **You must mark the PDF pages associated with each question in Gradescope. If you fail to do so, we may dock points.**\n",
        "* It is highly recommended that you begin working on this assignment early.\n",
        "* **Late Policy:** Assignments submitted late will receive a 15% grade reduction for each 12 hours late (i.e., 30% per day). Assignments will not be accepted 72 hours after the due date. If you require an extension (for personal reasons only) to a due date, you must request one as far in advance as possible. Extensions requested close to or after the due date will only be granted for clear emergencies or clearly unforeseeable circumstances. "
      ]
    },
    {
      "cell_type": "markdown",
      "metadata": {
        "id": "l5pbyh5yl4tk",
        "tags": [],
        "toc-hr-collapsed": true
      },
      "source": [
        "## Problem 1: Machine Learning [28 pts]"
      ]
    },
    {
      "cell_type": "markdown",
      "metadata": {
        "id": "m16Ecnjdl4tk"
      },
      "source": [
        "In this problem, you will implement several machine learning solutions for computer vision problems."
      ]
    },
    {
      "cell_type": "markdown",
      "metadata": {
        "id": "zQpyhnvIl4tk"
      },
      "source": [
        "### Problem 1.1: Initial Setup"
      ]
    },
    {
      "cell_type": "markdown",
      "metadata": {
        "id": "CCC0JD1Il4tl"
      },
      "source": [
        "We will use [Scikit-learn (Sklearn)](https://scikit-learn.org/stable/) module in for this problem. It is the most useful and robust library for machine learning in Python. It provides a selection of efficient tools for machine learning and statistical modeling including classification, regression, clustering and dimensionality reduction via a consistence interface in Python. This library, which is largely written in Python, is built upon NumPy, SciPy and Matplotlib. \n",
        "\n",
        "Get started by installing the Sklearn module."
      ]
    },
    {
      "cell_type": "code",
      "execution_count": null,
      "metadata": {
        "id": "8ZiYlaSol4tm",
        "colab": {
          "base_uri": "https://localhost:8080/",
          "height": 36
        },
        "outputId": "2a861844-1d1d-4abd-8848-150f428253d8"
      },
      "outputs": [
        {
          "output_type": "execute_result",
          "data": {
            "text/plain": [
              "'1.0.2'"
            ],
            "application/vnd.google.colaboratory.intrinsic+json": {
              "type": "string"
            }
          },
          "metadata": {},
          "execution_count": 1
        }
      ],
      "source": [
        "import sklearn\n",
        "sklearn.__version__"
      ]
    },
    {
      "cell_type": "markdown",
      "metadata": {
        "id": "0SQL5iPKl4to"
      },
      "source": [
        "### Problem 1.2: Download MNIST data [3 pts]"
      ]
    },
    {
      "cell_type": "markdown",
      "metadata": {
        "id": "-_f1_Tz7l4tq"
      },
      "source": [
        "The [MNIST database](http://yann.lecun.com/exdb/mnist/) (Modified National Institute of Standards and Technology database) is a well-known dataset consisting of 28x28 grayscale images of handwritten digits. For this problem, we will use Sklearn to do machine learning classification on the MNIST database.\n",
        "\n",
        "Sklearn provides a lower-resolution MNIST database with 8x8 pixel images of digits. The `images` attribute of the dataset stores 8x8 arrays of grayscale values for each image. The `target` attribute of the dataset stores the digit each image represents. Complete `plot_mnist_sample()` to plot a 2x5 figure, where each grid displays a sample image from a category. The following image gives an example:\n",
        "<!-- <img src=\"./fig/eg_mnist.PNG\" alt=\"drawing\" width=\"400\"/> -->\n",
        "![mnist](fig/eg_mnist.PNG) "
      ]
    },
    {
      "cell_type": "code",
      "execution_count": null,
      "metadata": {
        "id": "vbXpRqO1l4tq"
      },
      "outputs": [],
      "source": [
        "import numpy as np\n",
        "import matplotlib.pyplot as plt\n",
        "%matplotlib inline\n",
        "from sklearn import datasets\n",
        "from sklearn.model_selection import train_test_split"
      ]
    },
    {
      "cell_type": "code",
      "execution_count": null,
      "metadata": {
        "id": "3PTXSZhWl4tr",
        "colab": {
          "base_uri": "https://localhost:8080/"
        },
        "outputId": "f49d99b0-7ceb-4809-9cc3-e8991eacc0f5"
      },
      "outputs": [
        {
          "output_type": "stream",
          "name": "stdout",
          "text": [
            "Image Data Shape (1797, 64)\n",
            "Label Data Shape (1797,)\n"
          ]
        }
      ],
      "source": [
        "# Download MNIST Dataset from Sklearn\n",
        "digits = datasets.load_digits()\n",
        "\n",
        "# Print to show there are 1797 images (8 by 8 images for a dimensionality of 64)\n",
        "print(\"Image Data Shape\" , digits.data.shape)\n",
        "\n",
        "# Print to show there are 1797 labels (integers from 0-9)\n",
        "print(\"Label Data Shape\", digits.target.shape)"
      ]
    },
    {
      "cell_type": "code",
      "source": [],
      "metadata": {
        "id": "SABL2iH5SjXc"
      },
      "execution_count": null,
      "outputs": []
    },
    {
      "cell_type": "code",
      "execution_count": null,
      "metadata": {
        "id": "p43geFB4l4tr"
      },
      "outputs": [],
      "source": [
        "def plot_mnist_sample(digits):\n",
        "    \"\"\"\n",
        "    This function plots a sample image for each category,\n",
        "    The result is a figure with 2x5 grid of images.\n",
        "    \n",
        "    \"\"\"\n",
        "    plt.figure()\n",
        "    \n",
        "    \"\"\" ==========\n",
        "    YOUR CODE HERE\n",
        "    ========== \"\"\"\n",
        "    seti = set()\n",
        "    c = 0\n",
        "    imgs = [[0]]*10\n",
        "    while len(seti)!=10:\n",
        "      categ = digits.target[c]\n",
        "      if categ not in seti:\n",
        "        # print(len(seti))\n",
        "        imgs[categ] = digits.data[c]\n",
        "        seti.add(categ)\n",
        "      \n",
        "      c+=1\n",
        "\n",
        "    # print(imgs)\n",
        "    fig = plt.figure(figsize=(12, 9))\n",
        "\n",
        "    for i in range(5):\n",
        "      tmp = \"25\"+str(i+1)\n",
        "      ax1 = fig.add_subplot(int(tmp))\n",
        "      plt.imshow(imgs[i].reshape(8,8), cmap=\"gray\")\n",
        "      plt.title(\"Number: \"+str(i))\n",
        "\n",
        "\n",
        "    for i in range(5):\n",
        "      ax1 = fig.add_subplot(2,5,i+1+5)\n",
        "      plt.imshow(imgs[i+5].reshape(8,8), cmap=\"gray\")\n",
        "      plt.title(\"Number: \"+str(i+5))\n",
        "\n",
        "  \n",
        "    plt.show()\n",
        "\n",
        "    \n",
        "\n",
        "\n",
        "      \n",
        "\n",
        "\n",
        "    \n",
        "    "
      ]
    },
    {
      "cell_type": "code",
      "execution_count": null,
      "metadata": {
        "id": "xEj8kOdul4tr",
        "colab": {
          "base_uri": "https://localhost:8080/",
          "height": 422
        },
        "outputId": "35b3beb0-9d8f-49e3-963f-d44adf5c9fed"
      },
      "outputs": [
        {
          "output_type": "display_data",
          "data": {
            "text/plain": [
              "<Figure size 432x288 with 0 Axes>"
            ]
          },
          "metadata": {}
        },
        {
          "output_type": "display_data",
          "data": {
            "text/plain": [
              "<Figure size 864x648 with 10 Axes>"
            ],
            "image/png": "[encoded data removed]"
          },
          "metadata": {
            "needs_background": "light"
          }
        }
      ],
      "source": [
        "# PLOT CODE: DO NOT CHANGE\n",
        "# This code is for you to plot the results.\n",
        "\n",
        "plot_mnist_sample(digits)"
      ]
    },
    {
      "cell_type": "markdown",
      "metadata": {
        "id": "sD68VE3pl4ts"
      },
      "source": [
        "### Problem 1.3: Recognizing hand-written digits with Sklearn [5 pts]"
      ]
    },
    {
      "cell_type": "markdown",
      "metadata": {
        "id": "W3ctL_Gwl4ts"
      },
      "source": [
        "One of the most amazing things about the Sklearn library is that it provides an easy way to build and call different models. In this part, we will get experience with  `LogisticRegressionClassifier` and `kNNCalssifier`."
      ]
    },
    {
      "cell_type": "code",
      "execution_count": null,
      "metadata": {
        "id": "bDZ8BK3Ol4ts"
      },
      "outputs": [],
      "source": [
        "# DO NOT CHANGE\n",
        "#### Some helper functions are given below####\n",
        "def DataBatch(data, label, batchsize, shuffle=True):\n",
        "    \"\"\"\n",
        "    This function provides a generator for batches of data that \n",
        "    yields data (batchsize, 3, 32, 32) and labels (batchsize)\n",
        "    if shuffle, it will load batches in a random order\n",
        "    \"\"\"\n",
        "    n = data.shape[0]\n",
        "    if shuffle:\n",
        "        index = np.random.permutation(n)\n",
        "    else:\n",
        "        index = np.arange(n)\n",
        "    for i in range(int(np.ceil(n/batchsize))):\n",
        "        inds = index[i*batchsize : min(n,(i+1)*batchsize)]\n",
        "        yield data[inds], label[inds]\n",
        "\n",
        "def test(testData, testLabels, classifier):\n",
        "    \"\"\"\n",
        "    Call this function to test the accuracy of a classifier\n",
        "    \"\"\"\n",
        "    batchsize=50\n",
        "    correct=0.\n",
        "    for data,label in DataBatch(testData,testLabels,batchsize,shuffle=False):\n",
        "        prediction = classifier(data)\n",
        "        correct += np.sum(prediction==label)\n",
        "    return correct/testData.shape[0]*100"
      ]
    },
    {
      "cell_type": "code",
      "execution_count": null,
      "metadata": {
        "id": "QQ0N2RCZl4tt"
      },
      "outputs": [],
      "source": [
        "# DO NOT CHANGE\n",
        "# Split data into 90% train and 10% test subsets\n",
        "from sklearn.model_selection import train_test_split\n",
        "\n",
        "X_train, X_test, y_train, y_test = train_test_split(\n",
        "    digits.images.reshape((len(digits.images), -1)), digits.target, test_size=0.1, shuffle=False)"
      ]
    },
    {
      "cell_type": "code",
      "execution_count": null,
      "metadata": {
        "id": "m6JnXh3jl4tt"
      },
      "outputs": [],
      "source": [
        "from sklearn.linear_model import LogisticRegression\n",
        "from sklearn.neighbors import KNeighborsClassifier\n",
        "\n",
        "class RandomClassifier():\n",
        "    \"\"\"\n",
        "    This is a sample classifier. \n",
        "    given an input it outputs a random class\n",
        "    \"\"\"\n",
        "    def __init__(self, classes=10):\n",
        "        self.classes=classes\n",
        "    def __call__(self, x):\n",
        "        return np.random.randint(self.classes, size=x.shape[0])\n",
        "    \n",
        "class LogisticRegressionClassifier():\n",
        "    def __init__(self, sol='liblinear'):\n",
        "        \"\"\"\n",
        "        Initialize Logistic Regression model.\n",
        "        \n",
        "        Inputs:\n",
        "        sol: Solver method that the Logistic Regression model would use for optimization\n",
        "        \"\"\"\n",
        "        \"\"\" ==========\n",
        "        YOUR CODE HERE\n",
        "        ========== \"\"\"\n",
        "        self.sol = sol\n",
        "        self.model = sklearn.linear_model.LogisticRegression(solver=self.sol)\n",
        "        \n",
        "    def train(self, trainData, trainLabels):\n",
        "        \"\"\"\n",
        "        Train your model with image data and corresponding labels.\n",
        "        \n",
        "        Inputs:\n",
        "        trainData: Training images (N,64)\n",
        "        trainLabels: Labels (N,)\n",
        "        \"\"\"\n",
        "        \"\"\" ==========\n",
        "        YOUR CODE HERE\n",
        "        ========== \"\"\"\n",
        "        X = trainData\n",
        "        y = trainLabels\n",
        "        self.model.fit(X,y)\n",
        "\n",
        "        \n",
        "        \n",
        "    def __call__(self, x):\n",
        "        \"\"\"\n",
        "        Predict the trained model on test data.\n",
        "\n",
        "        Inputs:\n",
        "        x: Test images (N,64)\n",
        "\n",
        "        Returns:\n",
        "        predicted labels (N,)\n",
        "        \"\"\"\n",
        "        \"\"\" ==========\n",
        "        YOUR CODE HERE\n",
        "        ========== \"\"\"\n",
        "        return self.model.predict(x)\n",
        "       \n",
        "    \n",
        "class kNNClassifier():\n",
        "    def __init__(self, k=3, algorithm='brute'):\n",
        "        \"\"\"\n",
        "        Initialize KNN model.\n",
        "        \n",
        "        Inputs:\n",
        "        k: number of neighbors involved in voting\n",
        "        algorithm: Algorithm used to compute nearest neighbors\n",
        "        \"\"\"\n",
        "        \"\"\" ==========\n",
        "        YOUR CODE HERE\n",
        "        ========== \"\"\"\n",
        "        self.model = sklearn.neighbors.KNeighborsClassifier(n_neighbors=k,algorithm=algorithm)\n",
        "        \n",
        "        \n",
        "    def train(self, trainData, trainLabels):\n",
        "        \"\"\"\n",
        "        Train your model with image data and corresponding labels.\n",
        "        \n",
        "        Inputs:\n",
        "        trainData: Training images (N,64)\n",
        "        trainLabels: Labels (N,)\n",
        "        \"\"\"\n",
        "        \"\"\" ==========\n",
        "        YOUR CODE HERE\n",
        "        ========== \"\"\"\n",
        "        X = trainData\n",
        "        y = trainLabels\n",
        "        self.model.fit(X,y)\n",
        "            \n",
        "       \n",
        "        \n",
        "    def __call__(self, x):\n",
        "        \"\"\"\n",
        "        Predict the trained model on test data.\n",
        "\n",
        "        Inputs:\n",
        "        x: Test images (N,64)\n",
        "\n",
        "        Returns:\n",
        "        predicted labels (N,)\n",
        "        \"\"\"\n",
        "        \"\"\" ==========\n",
        "        YOUR CODE HERE\n",
        "        ========== \"\"\"\n",
        "        return self.model.predict(x)\n",
        "        \n",
        "        "
      ]
    },
    {
      "cell_type": "code",
      "execution_count": null,
      "metadata": {
        "id": "ZQ9k9kw-l4tt",
        "colab": {
          "base_uri": "https://localhost:8080/"
        },
        "outputId": "feee2fc8-fc9a-4cfd-eadd-e1dab5890e03"
      },
      "outputs": [
        {
          "output_type": "stream",
          "name": "stdout",
          "text": [
            "Random classifier accuracy: 8.888889\n"
          ]
        }
      ],
      "source": [
        "# TEST CODE: DO NOT CHANGE\n",
        "randomClassifierX = RandomClassifier()\n",
        "print ('Random classifier accuracy: %f'%test(X_test, y_test, randomClassifierX))"
      ]
    },
    {
      "cell_type": "code",
      "execution_count": null,
      "metadata": {
        "id": "tOGbN8GDl4tu",
        "colab": {
          "base_uri": "https://localhost:8080/"
        },
        "outputId": "fa26be24-9a8d-4bcb-d0f5-b3c150afbc74"
      },
      "outputs": [
        {
          "output_type": "stream",
          "name": "stdout",
          "text": [
            "Logistic Regression Classifier classifier accuracy: 93.888889\n"
          ]
        }
      ],
      "source": [
        "# TEST CODE: DO NOT CHANGE\n",
        "# TEST LogisticRegressionClassifier\n",
        "\n",
        "lrClassifierX = LogisticRegressionClassifier()\n",
        "lrClassifierX.train(X_train, y_train)\n",
        "print ('Logistic Regression Classifier classifier accuracy: %f'%test(X_test, y_test, lrClassifierX))"
      ]
    },
    {
      "cell_type": "code",
      "execution_count": null,
      "metadata": {
        "id": "WN3IyTafl4tu",
        "colab": {
          "base_uri": "https://localhost:8080/"
        },
        "outputId": "4a335e6d-45f9-4006-e709-19d1ec421a03"
      },
      "outputs": [
        {
          "output_type": "stream",
          "name": "stdout",
          "text": [
            "Knn Classifier classifier accuracy: 96.666667\n"
          ]
        }
      ],
      "source": [
        "# TEST kNNClassifier\n",
        "\"\"\" ==========\n",
        "YOUR CODE HERE\n",
        "========== \"\"\"\n",
        "kNNClassifierX = kNNClassifier()\n",
        "kNNClassifierX.train(X_train, y_train)\n",
        "print ('Knn Classifier classifier accuracy: %f'%test(X_test, y_test, kNNClassifierX))"
      ]
    },
    {
      "cell_type": "markdown",
      "metadata": {
        "id": "jt39SvrEl4tv"
      },
      "source": [
        "### Problem 1.4: Confusion Matrix [5 pts]"
      ]
    },
    {
      "cell_type": "markdown",
      "metadata": {
        "id": "9jm0Zmzcl4tv"
      },
      "source": [
        "A confusion matrix is a table that is often used to describe the performance of a classification model (or \"classifier\") on a set of test data for which the true values are known. Here you will implement a function that computes the confusion matrix for a classifier. The matrix (M) should be $n \\times n$ where $n$ is the number of classes. Entry `M[i,j]` should contain the fraction of images of class `i` that was classified as class `j`. The following example shows the confusion matrix for the `RandomClassifier`. Your task is to plot the results for `LogisticRegressionClassifier` and `kNNClassifier`.\n",
        "<!-- <img src=\"./fig/eg_confusion.PNG\" alt=\"drawing\" width=\"250\"/> -->\n",
        "![confusion](fig/eg_confusion.PNG) "
      ]
    },
    {
      "cell_type": "code",
      "execution_count": null,
      "metadata": {
        "id": "HP43z3lOl4tv"
      },
      "outputs": [],
      "source": [
        "from tqdm import tqdm\n",
        "from collections import defaultdict\n",
        "\n",
        "def Confusion(testData, testLabels, classifier):\n",
        "    batchsize=50\n",
        "    correct=0\n",
        "    M=np.zeros((10,10))\n",
        "    num=testData.shape[0]/batchsize\n",
        "    count=0\n",
        "    acc=0\n",
        "    dick = defaultdict(int)\n",
        "    for data,label in tqdm(DataBatch(testData,testLabels,batchsize,shuffle=False),total=len(testData)//batchsize):\n",
        "        \"\"\" ==========\n",
        "        YOUR CODE HERE\n",
        "        ========== \"\"\"\n",
        "        prediction = classifier(data)\n",
        "        acc += np.sum(prediction==label)\n",
        "        \n",
        "        for i in range(len(label)):\n",
        "          dick[label[i]]+=1\n",
        "          # M[prediction[i],label[i]] += 1\n",
        "          M[label[i],prediction[i]] += 1\n",
        "\n",
        "\n",
        "    # print(M)\n",
        "    for i in range(len(M[0])):\n",
        "      M[i,:] = M[i,:]/dick[i]\n",
        "    \n",
        "    \n",
        "    return M,acc*100.0/len(testData)\n",
        "\n",
        "def VisualizeConfussion(M):\n",
        "    plt.figure(figsize=(14, 6))\n",
        "    plt.imshow(M)\n",
        "    plt.show()\n",
        "    print(np.round(M,2))"
      ]
    },
    {
      "cell_type": "code",
      "execution_count": null,
      "metadata": {
        "id": "suvefA82l4tv",
        "colab": {
          "base_uri": "https://localhost:8080/",
          "height": 600
        },
        "outputId": "f3de35d6-abb5-4b83-b861-6b624015a754"
      },
      "outputs": [
        {
          "output_type": "stream",
          "name": "stderr",
          "text": [
            "4it [00:00, 1441.71it/s]             "
          ]
        },
        {
          "output_type": "stream",
          "name": "stdout",
          "text": [
            "Accuracy: 93.88888888888889\n"
          ]
        },
        {
          "output_type": "stream",
          "name": "stderr",
          "text": [
            "\n"
          ]
        },
        {
          "output_type": "display_data",
          "data": {
            "text/plain": [
              "<Figure size 1008x432 with 1 Axes>"
            ],
            "image/png": "[encoded data removed]"
          },
          "metadata": {
            "needs_background": "light"
          }
        },
        {
          "output_type": "stream",
          "name": "stdout",
          "text": [
            "[[1.   0.   0.   0.   0.   0.   0.   0.   0.   0.  ]\n",
            " [0.   0.89 0.   0.   0.05 0.   0.   0.   0.05 0.  ]\n",
            " [0.   0.   1.   0.   0.   0.   0.   0.   0.   0.  ]\n",
            " [0.   0.   0.   0.67 0.   0.11 0.   0.   0.22 0.  ]\n",
            " [0.   0.   0.   0.   0.9  0.   0.   0.   0.   0.1 ]\n",
            " [0.   0.   0.   0.   0.   1.   0.   0.   0.   0.  ]\n",
            " [0.   0.   0.   0.   0.   0.   1.   0.   0.   0.  ]\n",
            " [0.   0.   0.   0.   0.   0.   0.   1.   0.   0.  ]\n",
            " [0.   0.   0.   0.   0.   0.   0.   0.   1.   0.  ]\n",
            " [0.   0.   0.   0.06 0.   0.   0.   0.   0.   0.94]]\n"
          ]
        }
      ],
      "source": [
        "# TEST/PLOT CODE: DO NOT CHANGE\n",
        "# TEST LogisticRegressionClassifier\n",
        "\n",
        "M,acc = Confusion(X_test, y_test, lrClassifierX)\n",
        "print(\"Accuracy:\",acc)\n",
        "VisualizeConfussion(M)"
      ]
    },
    {
      "cell_type": "code",
      "execution_count": null,
      "metadata": {
        "id": "YWZFcKjal4tw",
        "colab": {
          "base_uri": "https://localhost:8080/",
          "height": 600
        },
        "outputId": "c639c76b-bd01-4a5f-e431-5dbf8a97a208"
      },
      "outputs": [
        {
          "output_type": "stream",
          "name": "stderr",
          "text": [
            "4it [00:00, 138.77it/s]              \n"
          ]
        },
        {
          "output_type": "stream",
          "name": "stdout",
          "text": [
            "Accuracy: 96.66666666666667\n"
          ]
        },
        {
          "output_type": "display_data",
          "data": {
            "text/plain": [
              "<Figure size 1008x432 with 1 Axes>"
            ],
            "image/png": "[encoded data removed]"
          },
          "metadata": {
            "needs_background": "light"
          }
        },
        {
          "output_type": "stream",
          "name": "stdout",
          "text": [
            "[[1.   0.   0.   0.   0.   0.   0.   0.   0.   0.  ]\n",
            " [0.   1.   0.   0.   0.   0.   0.   0.   0.   0.  ]\n",
            " [0.   0.   1.   0.   0.   0.   0.   0.   0.   0.  ]\n",
            " [0.   0.   0.06 0.89 0.   0.06 0.   0.   0.   0.  ]\n",
            " [0.   0.   0.   0.   0.95 0.   0.   0.   0.   0.05]\n",
            " [0.   0.   0.   0.   0.   1.   0.   0.   0.   0.  ]\n",
            " [0.   0.   0.   0.   0.   0.   1.   0.   0.   0.  ]\n",
            " [0.   0.   0.   0.   0.   0.   0.   1.   0.   0.  ]\n",
            " [0.   0.06 0.   0.   0.   0.   0.   0.   0.94 0.  ]\n",
            " [0.   0.   0.   0.06 0.   0.06 0.   0.   0.   0.89]]\n"
          ]
        }
      ],
      "source": [
        "# TEST/PLOT CODE: DO NOT CHANGE\n",
        "# TEST kNNClassifier\n",
        "\n",
        "M,acc = Confusion(X_test, y_test, kNNClassifierX)\n",
        "print(\"Accuracy:\",acc)\n",
        "VisualizeConfussion(M)"
      ]
    },
    {
      "cell_type": "markdown",
      "metadata": {
        "id": "0HnFGSRFl4tw"
      },
      "source": [
        "### Problem 1.5: K-Nearest Neighbors (KNN) [7 pts]"
      ]
    },
    {
      "cell_type": "markdown",
      "metadata": {
        "id": "1l8Vxkoil4tw"
      },
      "source": [
        "For this problem, you will complete a simple kNN classifer without Sklearn. The distance metric is Euclidean distance (L2 norm) in pixel space. You may use the **np.linalg.norm** function to compute distance. $k$ refers to the number of neighbors involved in voting on the class. "
      ]
    },
    {
      "cell_type": "code",
      "execution_count": null,
      "metadata": {
        "id": "C-D-znLZl4tx"
      },
      "outputs": [],
      "source": [
        "class kNNClassifierManual():\n",
        "  def __init__(self, k=3):\n",
        "    self.k=k\n",
        "\n",
        "  def train(self, trainData, trainLabels):\n",
        "    self.X = trainData\n",
        "    self.y = trainLabels\n",
        "\n",
        "      \n",
        "  def __call__(self, Xt):\n",
        "    \"\"\"\n",
        "    Predict the labels for the input data using KNN method.\n",
        "\n",
        "    Inputs:\n",
        "    Xt: Test images (N,64)\n",
        "\n",
        "    Returns:\n",
        "    predicted labels (N,)\n",
        "    \"\"\"\n",
        "    X = self.X\n",
        "    y = self.y\n",
        "    ypred = []\n",
        "    \n",
        "    for xt in range(len(Xt)):\n",
        "      dick = {}\n",
        "\n",
        "      # calculating distances of this test node with all train data\n",
        "      for i in range(len(X)):\n",
        "        # print(\"bruh\",X[i],y[i],Xt[i])\n",
        "        dick[i] = np.linalg.norm(Xt[xt]-X[i])\n",
        "      \n",
        "      # sorting by distances\n",
        "      dick = dict(sorted(dick.items(), key=lambda item: item[1]))\n",
        "      topKClasses = []\n",
        "      keys = list(dick.keys())\n",
        "      for k in range(self.k): # Getting the top K classes names.\n",
        "        topKClasses.append(y[keys[k]]) # y[index number[this class]]\n",
        "\n",
        "\n",
        "      # voting\n",
        "      dick = defaultdict(int)\n",
        "      for i in topKClasses:\n",
        "        dick[i]+=1\n",
        "\n",
        "      pred = max(dick, key=dick.get)\n",
        "\n",
        "      ypred.append(pred)\n",
        "\n",
        "    \n",
        "    return np.array(ypred)\n",
        "      \n",
        "      \n",
        "\n",
        "\n",
        "\n",
        "\n",
        "      "
      ]
    },
    {
      "cell_type": "code",
      "execution_count": null,
      "metadata": {
        "id": "wPVvwhp0l4tx",
        "colab": {
          "base_uri": "https://localhost:8080/"
        },
        "outputId": "722fd900-ab8e-4b60-f0c5-2bb378a85243"
      },
      "outputs": [
        {
          "output_type": "stream",
          "name": "stdout",
          "text": [
            "KNN classifier accuracy: 96.111111\n"
          ]
        }
      ],
      "source": [
        "# TEST/PLOT CODE: DO NOT CHANGE\n",
        "# TEST kNNClassifierManual\n",
        "\n",
        "knnClassifierManualX = kNNClassifierManual()\n",
        "knnClassifierManualX.train(X_train, y_train)\n",
        "print ('KNN classifier accuracy: %f'%test(X_test, y_test, knnClassifierManualX))"
      ]
    },
    {
      "cell_type": "markdown",
      "metadata": {
        "id": "jZQQIiKPnRQF"
      },
      "source": [
        "### Problem 1.6: Principal Component Analysis (PCA) K-Nearest Neighbors (KNN) [8 pts]\n",
        "Here you will implement a simple KNN classifer in PCA space (for k=3 and 25 principal components).\n",
        "You should implement PCA yourself using svd (you may not use sklearn.decomposition.PCA\n",
        "or any other package that directly implements PCA transformations)\n",
        "\n",
        "You may use your previous implementation of the KNN classifier in this part.\n",
        "\n",
        "Is the testing time for PCA KNN classifier more or less than that for KNN classifier? Comment on why it differs if it does."
      ]
    },
    {
      "cell_type": "code",
      "source": [],
      "metadata": {
        "id": "5STncD91yBEl"
      },
      "execution_count": null,
      "outputs": []
    },
    {
      "cell_type": "code",
      "execution_count": null,
      "metadata": {
        "id": "e06z90dxm7Af",
        "colab": {
          "base_uri": "https://localhost:8080/"
        },
        "outputId": "b24d2634-2da7-4955-c8d6-fc97a9d1c304"
      },
      "outputs": [
        {
          "output_type": "stream",
          "name": "stdout",
          "text": [
            "[[ 0.   -0.4  -0.1  ... -7.1  -2.2  -0.08]\n",
            " [ 0.   -0.4  -5.1  ...  2.9  -2.2  -0.08]\n",
            " [ 0.   -0.4  -5.1  ...  8.9   6.8  -0.08]\n",
            " ...\n",
            " [ 0.   -0.4  -5.1  ... -0.1  -2.2  -0.08]\n",
            " [ 0.    1.6   9.9  ... -2.1  -2.2  -0.08]\n",
            " [ 0.   -0.4  -4.1  ... -4.1  -2.2  -0.08]]\n",
            "[[ 0.00000000e+00  0.00000000e+00  0.00000000e+00 ...  0.00000000e+00\n",
            "   0.00000000e+00  0.00000000e+00]\n",
            " [ 0.00000000e+00  1.13131313e+00  2.89898990e+00 ... -1.67676768e+00\n",
            "  -7.27272727e-01 -3.23232323e-02]\n",
            " [ 0.00000000e+00  2.89898990e+00  2.77676768e+01 ... -8.69696970e+00\n",
            "  -2.61616162e+00 -2.82828283e-02]\n",
            " ...\n",
            " [ 0.00000000e+00 -1.67676768e+00 -8.69696970e+00 ...  3.25151515e+01\n",
            "   1.54242424e+01  4.86868687e-01]\n",
            " [ 0.00000000e+00 -7.27272727e-01 -2.61616162e+00 ...  1.54242424e+01\n",
            "   1.54545455e+01  8.12121212e-01]\n",
            " [ 0.00000000e+00 -3.23232323e-02 -2.82828283e-02 ...  4.86868687e-01\n",
            "   8.12121212e-01  2.15757576e-01]]\n",
            "[0.000e+00 4.000e-01 5.100e+00 9.890e+00 1.177e+01 5.940e+00 7.900e-01\n",
            " 1.000e-02 0.000e+00 1.420e+00 8.550e+00 1.165e+01 1.217e+01 9.710e+00\n",
            " 1.860e+00 0.000e+00 0.000e+00 1.700e+00 8.190e+00 8.960e+00 8.070e+00\n",
            " 8.830e+00 1.640e+00 0.000e+00 1.000e-02 2.470e+00 8.910e+00 8.830e+00\n",
            " 9.440e+00 8.080e+00 1.700e+00 0.000e+00 0.000e+00 2.250e+00 8.520e+00\n",
            " 8.670e+00 1.052e+01 8.330e+00 2.120e+00 0.000e+00 0.000e+00 1.350e+00\n",
            " 6.690e+00 7.600e+00 9.350e+00 8.710e+00 2.760e+00 1.000e-02 0.000e+00\n",
            " 5.500e-01 6.360e+00 9.650e+00 1.202e+01 8.880e+00 3.510e+00 1.600e-01\n",
            " 0.000e+00 3.200e-01 5.390e+00 1.059e+01 1.169e+01 7.100e+00 2.200e+00\n",
            " 8.000e-02]\n",
            "PCA KNN classifier accuracy: 84.444444\n"
          ]
        }
      ],
      "source": [
        "class PCAKNNClassifer():\n",
        "    def __init__(self, components=25, k=3):\n",
        "        \"\"\"\n",
        "        Initialize PCA kNN classifier\n",
        "\n",
        "        Inputs:\n",
        "        components: number of principal components\n",
        "        k: number of neighbors involved in voting\n",
        "        \"\"\"\n",
        "        \"\"\" ==========\n",
        "        YOUR CODE HERE\n",
        "        ========== \"\"\"\n",
        "        self.components = components\n",
        "        self.k = k\n",
        "        self.W = None\n",
        "        # self.model = None\n",
        "        self.classifier = kNNClassifierManual(self.k) # change 1\n",
        "        self.trainMean = None\n",
        "\n",
        "    def train(self, trainData, trainLabels):\n",
        "        \"\"\"\n",
        "        Train your model with image data and corresponding labels.\n",
        "        \n",
        "        Inputs:\n",
        "        trainData: Training images (N,64)\n",
        "        trainLabels: Labels (N,)\n",
        "        \"\"\"\n",
        "        \"\"\" ==========\n",
        "        YOUR CODE HERE\n",
        "        ========== \"\"\"\n",
        "        X = trainData\n",
        "        # print(X.shape)\n",
        "        # print(np.mean(X))\n",
        "        \n",
        "        self.trainMean = np.mean(X,axis=0) # Subtracting mean\n",
        "        # print(np.cov(X,rowvar=False))\n",
        "        \n",
        "        # print(self.trainMean.shape)\n",
        "        # print(np.mean(X,axis=0))\n",
        "        X = X - self.trainMean\n",
        "        # print(np.mean(X,axis=0))\n",
        "        y = trainLabels\n",
        "        \n",
        "        print(X)\n",
        "        print(np.cov(X,rowvar=False))\n",
        "        print(self.trainMean)\n",
        "        # print\n",
        "        U,S,V = np.linalg.svd(np.cov(X,rowvar=False))\n",
        "        # U,S,V = np.linalg.svd(X)\n",
        "        self.W = V[:self.components] # only extracting the 25 most important features' indices. Reducing the dimensions.\n",
        "        self.W = self.W.T\n",
        "        PCA_X = np.dot(X,self.W) # cutting down the train data to only the important 25 features.\n",
        "        # print(trainData.shape)\n",
        "        # print(PCA_X.shape)\n",
        "\n",
        "        self.model = kNNClassifierManual(self.k)\n",
        "        self.model.train(PCA_X,y)\n",
        "        \n",
        "    def __call__(self, Xt):\n",
        "        \"\"\"\n",
        "        Predict the trained model on test data.\n",
        "\n",
        "        Inputs:\n",
        "        x: Test images (N,64)\n",
        "\n",
        "        Returns:\n",
        "        predicted labels (N,)\n",
        "        \"\"\"\n",
        "        \"\"\" ==========\n",
        "        YOUR CODE HERE\n",
        "        ========== \"\"\"\n",
        "        # print(self.trainMean)\n",
        "\n",
        "        Xt -= self.trainMean # Subtracting mean\n",
        "        PCA_Xt = np.dot(Xt,self.W) # Cut down test data to only 25 important features\n",
        "\n",
        "        return self.model(PCA_Xt)\n",
        "\n",
        "       \n",
        "\n",
        "# test your classifier with only the first 100 training examples (use this\n",
        "# while debugging)\n",
        "pcaknnClassiferX = PCAKNNClassifer()\n",
        "pcaknnClassiferX.train(X_train[:100], y_train[:100])\n",
        "print ('PCA KNN classifier accuracy: %f'%test(X_test, y_test, pcaknnClassiferX))"
      ]
    },
    {
      "cell_type": "code",
      "execution_count": null,
      "metadata": {
        "id": "eSbD_cdeoOY5",
        "colab": {
          "base_uri": "https://localhost:8080/",
          "height": 600
        },
        "outputId": "f2acc786-f623-442c-eef0-8faea8aedd88"
      },
      "outputs": [
        {
          "output_type": "stream",
          "name": "stderr",
          "text": [
            "4it [00:02,  1.92it/s]"
          ]
        },
        {
          "output_type": "stream",
          "name": "stdout",
          "text": [
            "PCA KNN classifier accuracy: 96.666667\n"
          ]
        },
        {
          "output_type": "stream",
          "name": "stderr",
          "text": [
            "\n"
          ]
        },
        {
          "output_type": "display_data",
          "data": {
            "text/plain": [
              "<Figure size 1008x432 with 1 Axes>"
            ],
            "image/png": "[encoded data removed]"
          },
          "metadata": {
            "needs_background": "light"
          }
        },
        {
          "output_type": "stream",
          "name": "stdout",
          "text": [
            "[[1.   0.   0.   0.   0.   0.   0.   0.   0.   0.  ]\n",
            " [0.   1.   0.   0.   0.   0.   0.   0.   0.   0.  ]\n",
            " [0.   0.   1.   0.   0.   0.   0.   0.   0.   0.  ]\n",
            " [0.   0.   0.   0.89 0.   0.06 0.   0.   0.06 0.  ]\n",
            " [0.   0.   0.   0.   1.   0.   0.   0.   0.   0.  ]\n",
            " [0.   0.   0.   0.   0.   1.   0.   0.   0.   0.  ]\n",
            " [0.   0.   0.   0.   0.   0.   1.   0.   0.   0.  ]\n",
            " [0.   0.   0.   0.   0.   0.   0.   1.   0.   0.  ]\n",
            " [0.   0.06 0.   0.   0.   0.   0.   0.06 0.88 0.  ]\n",
            " [0.   0.   0.   0.06 0.   0.06 0.   0.   0.   0.89]]\n"
          ]
        }
      ],
      "source": [
        "# test your classifier with all the training examples\n",
        "pcaknnClassifer = PCAKNNClassifer()\n",
        "pcaknnClassifer.train(X_train, y_train)\n",
        "# display confusion matrix for your PCA KNN classifier with all the training examples\n",
        "\"\"\" ==========\n",
        "YOUR CODE HERE\n",
        "========== \"\"\"\n",
        "M_pca, acc_pca = Confusion(X_test, y_test, pcaknnClassifer)\n",
        "\n",
        "print ('PCA KNN classifier accuracy: %f'%acc_pca)\n",
        "VisualizeConfussion(M_pca)"
      ]
    },
    {
      "cell_type": "markdown",
      "metadata": {
        "id": "iuQfPRnEpM9c"
      },
      "source": [
        "The test time for PCA KNN is definitely less than KNN because we are only testing on the 25 most important aspects or pixels of the incoming test data instead of all 64."
      ]
    },
    {
      "cell_type": "markdown",
      "metadata": {
        "id": "R8ol8VCDpV8Q"
      },
      "source": [
        "## Problem 2: Deep learning [28 pts]\n"
      ]
    },
    {
      "cell_type": "markdown",
      "metadata": {
        "id": "aYf3GsdmpfvS"
      },
      "source": [
        "### Problem 2.1 Initial setup [1 pts]\n",
        "\n",
        "Follow the directions on https://pytorch.org/get-started/locally/ to install Pytorch on your computer. \n",
        "\n",
        "Note: You will not need GPU support for this assignment so don't worry if you don't have one. Furthermore, installing with GPU support is often more difficult to configure so it is suggested that you install the CPU only version. TA's will not provide any support related to GPU or CUDA.\n",
        "\n",
        "Run the torch import statements below to verify your instalation.\n",
        "\n"
      ]
    },
    {
      "cell_type": "code",
      "execution_count": null,
      "metadata": {
        "id": "nQC44M9Rp1VR",
        "colab": {
          "base_uri": "https://localhost:8080/"
        },
        "outputId": "e7afb636-900c-4858-9ef8-f1d94ee39a4c"
      },
      "outputs": [
        {
          "output_type": "stream",
          "name": "stdout",
          "text": [
            "tensor([[0.8181, 0.3293, 0.2066],\n",
            "        [0.8902, 0.2146, 0.3458],\n",
            "        [0.9699, 0.1427, 0.4793],\n",
            "        [0.2957, 0.6248, 0.7426],\n",
            "        [0.1619, 0.7739, 0.7063]])\n"
          ]
        }
      ],
      "source": [
        "import torch.nn as nn\n",
        "import torch.nn.functional as F\n",
        "import torch\n",
        "from torch.autograd import Variable\n",
        "\n",
        "x = torch.rand(5, 3)\n",
        "print(x)"
      ]
    },
    {
      "cell_type": "code",
      "source": [
        "import numpy as np\n",
        "import matplotlib.pyplot as plt\n",
        "%matplotlib inline\n",
        "from sklearn import datasets\n",
        "from sklearn.model_selection import train_test_split\n",
        "# DO NOT CHANGE\n",
        "#### Some helper functions are given below####\n",
        "def DataBatch(data, label, batchsize, shuffle=True):\n",
        "    \"\"\"\n",
        "    This function provides a generator for batches of data that \n",
        "    yields data (batchsize, 3, 32, 32) and labels (batchsize)\n",
        "    if shuffle, it will load batches in a random order\n",
        "    \"\"\"\n",
        "    n = data.shape[0]\n",
        "    if shuffle:\n",
        "        index = np.random.permutation(n)\n",
        "    else:\n",
        "        index = np.arange(n)\n",
        "    for i in range(int(np.ceil(n/batchsize))):\n",
        "        inds = index[i*batchsize : min(n,(i+1)*batchsize)]\n",
        "        yield data[inds], label[inds]\n",
        "\n",
        "def test(testData, testLabels, classifier):\n",
        "    \"\"\"\n",
        "    Call this function to test the accuracy of a classifier\n",
        "    \"\"\"\n",
        "    batchsize=50\n",
        "    correct=0.\n",
        "    for data,label in DataBatch(testData,testLabels,batchsize,shuffle=False):\n",
        "        prediction = classifier(data)\n",
        "        correct += np.sum(prediction==label)\n",
        "    return correct/testData.shape[0]*100"
      ],
      "metadata": {
        "id": "7_ETqJhcgyE3"
      },
      "execution_count": null,
      "outputs": []
    },
    {
      "cell_type": "markdown",
      "metadata": {
        "id": "Ai7Lktn5tLBz"
      },
      "source": [
        "In this problem, we will use the full dataset of MNIST database with 28x28 pixel images of digits.\n",
        "\n",
        "Download the MNIST data from http://yann.lecun.com/exdb/mnist/.\n",
        "\n",
        "Download the 4 zipped files, extract them into one folder, and change the variable 'path' in the code below. (Code taken from https://gist.github.com/akesling/5358964 )\n",
        "\n",
        "Plot one random example image corresponding to each label from training data."
      ]
    },
    {
      "cell_type": "code",
      "source": [
        "from google.colab import drive\n",
        "drive.mount('/content/drive')\n",
        "gpath = \"/content/drive/MyDrive/252A-CV/Ass5/\""
      ],
      "metadata": {
        "colab": {
          "base_uri": "https://localhost:8080/"
        },
        "id": "lwuA7YE0KpOY",
        "outputId": "b8613019-637a-4440-b2ac-b82f271c5073"
      },
      "execution_count": null,
      "outputs": [
        {
          "output_type": "stream",
          "name": "stdout",
          "text": [
            "Mounted at /content/drive\n"
          ]
        }
      ]
    },
    {
      "cell_type": "code",
      "execution_count": null,
      "metadata": {
        "id": "j6owsEdLttV9"
      },
      "outputs": [],
      "source": [
        "import os\n",
        "import struct\n",
        "\n",
        "# Change path as required\n",
        "path = gpath\n",
        "\n",
        "def read(dataset = \"training\", datatype='images'):\n",
        "    \"\"\"\n",
        "    Python function for importing the MNIST data set.  It returns an iterator\n",
        "    of 2-tuples with the first element being the label and the second element\n",
        "    being a numpy.uint8 2D array of pixel data for the given image.\n",
        "    \"\"\"\n",
        "\n",
        "    if dataset is \"training\":\n",
        "        fname_img = os.path.join(path, 'train-images.idx3-ubyte')\n",
        "        fname_lbl = os.path.join(path, 'train-labels.idx1-ubyte')\n",
        "    elif dataset is \"testing\":\n",
        "        fname_img = os.path.join(path, 't10k-images.idx3-ubyte')\n",
        "        fname_lbl = os.path.join(path, 't10k-labels.idx1-ubyte')\n",
        "\n",
        "    # Load everything in some numpy arrays\n",
        "    with open(fname_lbl, 'rb') as flbl:\n",
        "        magic, num = struct.unpack(\">II\", flbl.read(8))\n",
        "        lbl = np.fromfile(flbl, dtype=np.int8)\n",
        "\n",
        "    with open(fname_img, 'rb') as fimg:\n",
        "        magic, num, rows, cols = struct.unpack(\">IIII\", fimg.read(16))\n",
        "        img = np.fromfile(fimg, dtype=np.uint8).reshape(len(lbl), rows, cols)\n",
        "    \n",
        "    if(datatype=='images'):\n",
        "        get_data = lambda idx: img[idx]\n",
        "    elif(datatype=='labels'):\n",
        "        get_data = lambda idx: lbl[idx]\n",
        "\n",
        "    # Create an iterator which returns each image in turn\n",
        "    for i in range(len(lbl)):\n",
        "        yield get_data(i)\n",
        "        \n",
        "X_train=np.array(list(read('training','images')))\n",
        "y_train=np.array(list(read('training','labels')))\n",
        "X_test=np.array(list(read('testing','images')))\n",
        "y_test=np.array(list(read('testing','labels')))"
      ]
    },
    {
      "cell_type": "code",
      "execution_count": null,
      "metadata": {
        "id": "E5tK3MeXN5v2"
      },
      "outputs": [],
      "source": [
        "def plot_mnist_sample_high_res(X_train, y_train):\n",
        "    \"\"\"\n",
        "    This function plots a sample image for each category,\n",
        "    The result is a figure with 2x5 grid of images.\n",
        "    \n",
        "    \"\"\"\n",
        "    plt.figure()\n",
        "    \n",
        "    \"\"\" ==========\n",
        "    YOUR CODE HERE\n",
        "    ========== \"\"\"\n",
        "    seti = set()\n",
        "    c = 0\n",
        "    imgs = [[0]]*10\n",
        "    X = X_train\n",
        "    y = y_train\n",
        "    while len(seti)!=10:\n",
        "      categ = y[c]\n",
        "      if categ not in seti:\n",
        "        # print(len(seti))\n",
        "        imgs[categ] = X[c]\n",
        "        seti.add(categ)\n",
        "      \n",
        "      c+=1\n",
        "\n",
        "    # print(imgs)\n",
        "    fig = plt.figure(figsize=(12, 9))\n",
        "\n",
        "    for i in range(5):\n",
        "      tmp = \"25\"+str(i+1)\n",
        "      ax1 = fig.add_subplot(int(tmp))\n",
        "      plt.imshow(imgs[i], cmap=\"gray\")\n",
        "      plt.title(\"Number: \"+str(i))\n",
        "\n",
        "\n",
        "    for i in range(5):\n",
        "      ax1 = fig.add_subplot(2,5,i+1+5)\n",
        "      plt.imshow(imgs[i+5], cmap=\"gray\")\n",
        "      plt.title(\"Number: \"+str(i+5))\n",
        "\n",
        "  \n",
        "    plt.show()\n"
      ]
    },
    {
      "cell_type": "code",
      "execution_count": null,
      "metadata": {
        "id": "BNCBDoFnN8B5",
        "colab": {
          "base_uri": "https://localhost:8080/",
          "height": 419
        },
        "outputId": "b9f048e2-6584-4324-ec74-e10b7cba8710"
      },
      "outputs": [
        {
          "output_type": "display_data",
          "data": {
            "text/plain": [
              "<Figure size 432x288 with 0 Axes>"
            ]
          },
          "metadata": {}
        },
        {
          "output_type": "display_data",
          "data": {
            "text/plain": [
              "<Figure size 864x648 with 10 Axes>"
            ],
            "image/png": "[encoded data removed]"
          },
          "metadata": {
            "needs_background": "light"
          }
        }
      ],
      "source": [
        "# PLOT CODE: DO NOT CHANGE\n",
        "# This code is for you to plot the results.\n",
        "\n",
        "plot_mnist_sample_high_res(X_train, y_train)"
      ]
    },
    {
      "cell_type": "markdown",
      "metadata": {
        "id": "6Wu-weDbqEAY"
      },
      "source": [
        "### Problem 2.2:  Training with PyTorch [8 pts]\n",
        "Below is some helper code to train your deep networks. \n",
        "Complete the train function for DNN below. \n",
        "\n",
        "You should write down the training operations in this function. That means, for a batch of data you have to initialize the gradients, forward propagate the data, compute error, do back propagation and finally update the parameters. You would have to choose an appropriate loss function and optimizer from PyTorch for this problem.\n",
        "\n",
        "This function will be used in the following questions with different networks.\n",
        "You can look at https://pytorch.org/tutorials/beginner/pytorch_with_examples.html for reference.\n",
        "\n"
      ]
    },
    {
      "cell_type": "code",
      "execution_count": null,
      "metadata": {
        "id": "Ky0FksEwqDta"
      },
      "outputs": [],
      "source": [
        "# base class for your deep neural networks. It implements the training loop (train_net).\n",
        "\n",
        "\n",
        "import torch.nn.init\n",
        "import torch.optim as optim\n",
        "from torch.autograd import Variable\n",
        "from torch.nn.parameter import Parameter\n",
        "from tqdm import tqdm\n",
        "from scipy.stats import truncnorm\n",
        "\n",
        "class DNN(nn.Module):\n",
        "    def __init__(self, in_features=28*28, classes=10):\n",
        "        super(DNN, self).__init__()\n",
        "        pass\n",
        "    \n",
        "    def forward(self, x):\n",
        "        raise NotImplementedError\n",
        "    \n",
        "    def train_net(self, X_train, y_train, epochs=1, batchSize=50,lr=0.00001):\n",
        "        \"\"\" ==========\n",
        "        YOUR CODE HERE\n",
        "        ========== \"\"\"\n",
        "        # initialize the gradients, forward propagate the data, compute error, \n",
        "        # do back propagation and finally update the parameters\n",
        "\n",
        "        X_train = torch.Tensor(X_train)\n",
        "        y_train = torch.LongTensor(y_train)\n",
        "        # initialize loss function and optimizer for use in each batch\n",
        "        loss_fn = torch.nn.CrossEntropyLoss()\n",
        "        # optimizer = torch.optim.Adam([self.weight1,self.bias1], lr=0.0008)\n",
        "        optimizer = torch.optim.Adam(self.toOpt, lr=lr)\n",
        "        # optimizer = optim.SGD([self.weight1,self.bias1], lr=0.001, momentum=0.9)\n",
        "        for n in range(epochs):\n",
        "            self.train()\n",
        "            for input,target in tqdm(DataBatch(X_train,y_train,batchSize,shuffle=False),total=len(X_train)//batchSize):\n",
        "                optimizer.zero_grad()\n",
        "                # output = model(input)\n",
        "                output = self.forward(input)\n",
        "                loss = loss_fn(output, target)\n",
        "                loss.backward()\n",
        "                optimizer.step()\n",
        "\n",
        "        \n",
        "    \n",
        "    def __call__(self, x):\n",
        "        inputs = Variable(torch.FloatTensor(x))\n",
        "        prediction = self.forward(inputs)\n",
        "        return np.argmax(prediction.data.cpu().numpy(), 1)\n",
        "\n",
        "# helper function to get weight variable\n",
        "def weight_variable(shape):\n",
        "    initial = torch.Tensor(truncnorm.rvs(-1/0.01, 1/0.01, scale=0.01, size=shape))\n",
        "    return Parameter(initial, requires_grad=True)\n",
        "\n",
        "# helper function to get bias variable\n",
        "def bias_variable(shape):\n",
        "    initial = torch.Tensor(np.ones(shape)*0.1)\n",
        "    return Parameter(initial, requires_grad=True)"
      ]
    },
    {
      "cell_type": "code",
      "execution_count": null,
      "metadata": {
        "id": "2HYVuzbtosJo"
      },
      "outputs": [],
      "source": [
        "# example linear classifier - input connected to output\n",
        "# you can take this as an example to learn how to extend DNN class\n",
        "class LinearClassifier(DNN):\n",
        "    def __init__(self, in_features=28*28, classes=10):\n",
        "        super(LinearClassifier, self).__init__()\n",
        "        # in_features=28*28\n",
        "        self.weight1 = weight_variable((classes, in_features))\n",
        "        self.bias1 = bias_variable((classes))\n",
        "        self.toOpt = [self.weight1,self.bias1]\n",
        "    \n",
        "    def forward(self, x):\n",
        "        # linear operation\n",
        "        out_channel= x.size()[0]\n",
        "        x = x.view(out_channel, -1)\n",
        "        y_pred = torch.addmm(self.bias1, x, self.weight1.t())\n",
        "        return y_pred\n",
        "\n",
        "X_train=np.array(list(read('training','images')))\n",
        "y_train=np.array(list(read('training','labels')))\n",
        "X_test=np.array(list(read('testing','images')))\n",
        "y_test=np.array(list(read('testing','labels')))\n",
        "\n",
        "X_train=np.float32(np.expand_dims(X_train,-1))/255\n",
        "X_train=X_train.transpose((0,3,1,2))\n",
        "\n",
        "X_test=np.float32(np.expand_dims(X_test,-1))/255\n",
        "X_test=X_test.transpose((0,3,1,2))"
      ]
    },
    {
      "cell_type": "code",
      "execution_count": null,
      "metadata": {
        "id": "J-UGSj6FqRKf",
        "colab": {
          "base_uri": "https://localhost:8080/"
        },
        "outputId": "b74c0233-08bd-4f5e-a926-f5987f9b355d"
      },
      "outputs": [
        {
          "output_type": "stream",
          "name": "stderr",
          "text": [
            "100%|██████████| 1200/1200 [00:00<00:00, 1457.77it/s]\n",
            "100%|██████████| 1200/1200 [00:00<00:00, 1483.86it/s]\n",
            "100%|██████████| 1200/1200 [00:00<00:00, 1518.79it/s]\n",
            "100%|██████████| 1200/1200 [00:00<00:00, 1447.70it/s]\n",
            "100%|██████████| 1200/1200 [00:00<00:00, 1451.19it/s]\n",
            "100%|██████████| 1200/1200 [00:00<00:00, 1501.14it/s]\n",
            "100%|██████████| 1200/1200 [00:00<00:00, 1474.25it/s]\n",
            "100%|██████████| 1200/1200 [00:00<00:00, 1519.63it/s]\n",
            "100%|██████████| 1200/1200 [00:00<00:00, 1460.26it/s]\n",
            "100%|██████████| 1200/1200 [00:00<00:00, 1470.67it/s]\n"
          ]
        },
        {
          "output_type": "stream",
          "name": "stdout",
          "text": [
            "Linear classifier accuracy: 92.670000\n"
          ]
        }
      ],
      "source": [
        "# test the example linear classifier (note you should get around 90% accuracy\n",
        "# for 10 epochs and batchsize 50)\n",
        "linearClassifier = LinearClassifier()\n",
        "linearClassifier.train_net(X_train, y_train, epochs=10, lr=0.000789)\n",
        "\n",
        "print ('Linear classifier accuracy: %f'%test(X_test, y_test, linearClassifier))"
      ]
    },
    {
      "cell_type": "code",
      "execution_count": null,
      "metadata": {
        "id": "8RA5688oyNTu",
        "colab": {
          "base_uri": "https://localhost:8080/",
          "height": 600
        },
        "outputId": "bab70272-a230-4b1c-81de-dfa75d1bbcbb"
      },
      "outputs": [
        {
          "output_type": "stream",
          "name": "stderr",
          "text": [
            "100%|██████████| 200/200 [00:00<00:00, 4130.77it/s]\n"
          ]
        },
        {
          "output_type": "stream",
          "name": "stdout",
          "text": [
            "Accuracy: 92.67\n"
          ]
        },
        {
          "output_type": "display_data",
          "data": {
            "text/plain": [
              "<Figure size 1008x432 with 1 Axes>"
            ],
            "image/png": "[encoded data removed]"
          },
          "metadata": {
            "needs_background": "light"
          }
        },
        {
          "output_type": "stream",
          "name": "stdout",
          "text": [
            "[[0.98 0.   0.   0.   0.   0.   0.01 0.   0.   0.  ]\n",
            " [0.   0.98 0.   0.   0.   0.   0.   0.   0.01 0.  ]\n",
            " [0.01 0.01 0.89 0.02 0.01 0.   0.01 0.01 0.04 0.  ]\n",
            " [0.   0.   0.02 0.91 0.   0.03 0.   0.01 0.02 0.01]\n",
            " [0.   0.   0.   0.   0.92 0.   0.01 0.   0.01 0.05]\n",
            " [0.01 0.   0.   0.03 0.01 0.89 0.01 0.01 0.03 0.01]\n",
            " [0.01 0.   0.01 0.   0.01 0.01 0.95 0.   0.   0.  ]\n",
            " [0.   0.   0.02 0.01 0.   0.   0.   0.92 0.   0.04]\n",
            " [0.01 0.01 0.01 0.02 0.01 0.03 0.01 0.01 0.89 0.01]\n",
            " [0.01 0.01 0.   0.01 0.02 0.01 0.   0.02 0.   0.92]]\n"
          ]
        }
      ],
      "source": [
        "# display confusion matrix\n",
        "\"\"\" ==========\n",
        "YOUR CODE HERE\n",
        "========== \"\"\"\n",
        "M,acc = Confusion(X_test, y_test, linearClassifier)\n",
        "print(\"Accuracy:\",acc)\n",
        "VisualizeConfussion(M)\n"
      ]
    },
    {
      "cell_type": "markdown",
      "metadata": {
        "id": "mNzcCiLr0AU8"
      },
      "source": [
        "### Problem 2.3:  Visualizing Weights (Single Layer Perceptron) [3 pts]\n",
        "The simple linear classifier implemented in the cell already performs quite well. Plot the filter weights corresponding to each output class (weights, not biases) as images. (Normalize weights to lie between 0 and 1 and use color maps like 'inferno' or 'plasma' for good results). Comment on what the weights look like and why that may be so.\n"
      ]
    },
    {
      "cell_type": "code",
      "execution_count": null,
      "metadata": {
        "id": "Q8S3dYZgzzT_",
        "colab": {
          "base_uri": "https://localhost:8080/",
          "height": 457
        },
        "outputId": "71e511eb-8994-4fa3-ce31-c5d2a7863fcf"
      },
      "outputs": [
        {
          "output_type": "stream",
          "name": "stdout",
          "text": [
            "<class 'torch.Tensor'>\n",
            "torch.Size([10, 784])\n"
          ]
        },
        {
          "output_type": "display_data",
          "data": {
            "text/plain": [
              "<Figure size 432x288 with 0 Axes>"
            ]
          },
          "metadata": {}
        },
        {
          "output_type": "display_data",
          "data": {
            "text/plain": [
              "<Figure size 864x648 with 10 Axes>"
            ],
            "image/png": "[encoded data removed]"
          },
          "metadata": {
            "needs_background": "light"
          }
        }
      ],
      "source": [
        "# Plot filter weights corresponding to each class, you may have to reshape them to make sense out of them\n",
        "# linearClassifier.weight1.data will give you the first layer weights\n",
        "\"\"\" ==========\n",
        "YOUR CODE HERE\n",
        "========== \"\"\"\n",
        "def normalize(a):\n",
        "  # Normalised [0,1]\n",
        "  return (a - np.min(a))/np.ptp(a)\n",
        "\n",
        "print(type(linearClassifier.weight1.data))\n",
        "print(linearClassifier.weight1.shape)\n",
        "weights = linearClassifier.weight1.data\n",
        "# weights[:2][:10]\n",
        "\n",
        "plt.figure()\n",
        "    \n",
        "\"\"\" ==========\n",
        "YOUR CODE HERE\n",
        "========== \"\"\"\n",
        "# seti = set()\n",
        "# c = 0\n",
        "# imgs = [[0]]*10\n",
        "# X = X_train\n",
        "# y = y_train\n",
        "# while len(seti)!=10:\n",
        "#   categ = y[c]\n",
        "#   if categ not in seti:\n",
        "#     # print(len(seti))\n",
        "#     imgs[categ] = X[c]\n",
        "#     seti.add(categ)\n",
        "  \n",
        "#   c+=1\n",
        "\n",
        "# print(imgs)\n",
        "fig = plt.figure(figsize=(12, 9))\n",
        "\n",
        "for i in range(5):\n",
        "  tmp = \"25\"+str(i+1)\n",
        "  ax1 = fig.add_subplot(int(tmp))\n",
        "  plt.imshow(normalize(np.array(weights[i].reshape(28,28))), cmap=\"inferno\")\n",
        "  plt.title(\"Number: \"+str(i))\n",
        "\n",
        "\n",
        "for i in range(5):\n",
        "  ax1 = fig.add_subplot(2,5,i+1+5)\n",
        "  plt.imshow(normalize(np.array(weights[i+5].reshape(28,28))), cmap=\"inferno\")\n",
        "  plt.title(\"Number: \"+str(i+5))\n",
        "\n",
        "\n",
        "plt.show()\n"
      ]
    },
    {
      "cell_type": "markdown",
      "metadata": {
        "id": "zmQUOBNg0PkW"
      },
      "source": [
        "#### Comments on weights\n",
        "\n",
        "The weights, when plotted as images, in fact, look like the number they are trying to detect or recognize. I think after multiple iterations, the weights (being a single layer) start highlighting their own classes, and if it is a similar match, it will be classified as that.\n"
      ]
    },
    {
      "cell_type": "markdown",
      "metadata": {
        "id": "gJBWgsBE0S7K"
      },
      "source": [
        "### Problem 2.4: Multi Layer Perceptron (MLP) [8 pts]\n",
        "Here you will implement an MLP. The MLP should consist of 2 layers (weight multiplication and bias offset) that map to the following feature dimensions:\n",
        "\n",
        "* 28x28 -> hidden (50)\n",
        "* hidden (50) -> classes\n",
        "\n",
        "* The hidden layer should be followed with a ReLU nonlinearity. The final layer should not have a nonlinearity applied as we desire the raw logits output.\n",
        "* The final output of the computation graph should be stored in self.y as that will be used in the training.\n",
        "\n",
        "Display the confusion matrix and accuracy after training. Note: You should get ~ 95 % accuracy for 10 epochs and batch size 50.\n",
        "\n",
        "Plot the filter weights corresponding to the mapping from the inputs to the first 10 hidden layer outputs (out of 50). Do the weights look similar to the weights plotted in the previous problem? Why or why not?\n",
        "\n",
        "It is expected that the training model would take a few minutes to run."
      ]
    },
    {
      "cell_type": "code",
      "execution_count": null,
      "metadata": {
        "id": "Ss2lUgpL0JRh",
        "colab": {
          "base_uri": "https://localhost:8080/"
        },
        "outputId": "7f8a1427-bc9b-48bb-8443-3c4d8e9f5899"
      },
      "outputs": [
        {
          "output_type": "stream",
          "name": "stderr",
          "text": [
            "100%|██████████| 1200/1200 [00:01<00:00, 784.73it/s]\n",
            "100%|██████████| 1200/1200 [00:01<00:00, 744.55it/s]\n",
            "100%|██████████| 1200/1200 [00:01<00:00, 748.84it/s]\n",
            "100%|██████████| 1200/1200 [00:01<00:00, 708.02it/s]\n",
            "100%|██████████| 1200/1200 [00:01<00:00, 729.37it/s]\n",
            "100%|██████████| 1200/1200 [00:01<00:00, 737.33it/s]\n",
            "100%|██████████| 1200/1200 [00:01<00:00, 718.11it/s]\n",
            "100%|██████████| 1200/1200 [00:01<00:00, 714.95it/s]\n",
            "100%|██████████| 1200/1200 [00:01<00:00, 730.32it/s]\n",
            "100%|██████████| 1200/1200 [00:01<00:00, 708.83it/s]\n"
          ]
        }
      ],
      "source": [
        "class MLPClassifer(DNN):\n",
        "    def __init__(self, in_features=28*28, classes=10, hidden=50):\n",
        "        \"\"\"\n",
        "        Initialize weight and bias variables\n",
        "        \"\"\"\n",
        "        super(MLPClassifer, self).__init__()\n",
        "        \"\"\" ==========\n",
        "        YOUR CODE HERE\n",
        "        ========== \"\"\"\n",
        "\n",
        "        self.hidden1 = weight_variable((hidden, in_features)) # just giving the shape acc to the prob.\n",
        "        self.HBias1 = bias_variable((hidden))\n",
        "        # print(self.hidden1.shape)\n",
        "        # print(self.HBias1.shape)\n",
        "        \n",
        "\n",
        "        self.ReLU = torch.nn.ReLU() # ReLU layer\n",
        "\n",
        "        self.final = weight_variable((classes, hidden))  # Final number of weights to output...\n",
        "        self.FBias = bias_variable((classes))\n",
        "        self.toOpt = [self.hidden1,self.HBias1,self.final,self.FBias]\n",
        "        # print(self.final.shape)\n",
        "        # print(self.FBias.shape)\n",
        "        \n",
        "        \n",
        "\n",
        "    \n",
        "    def forward(self, x):\n",
        "        \"\"\" ==========\n",
        "        YOUR CODE HERE\n",
        "        ========== \"\"\"\n",
        "        out_channel= x.size()[0]\n",
        "        x = x.view(out_channel, -1)\n",
        "        y_pred = torch.addmm(self.HBias1, x, self.hidden1.t())\n",
        "\n",
        "        y_pred = self.ReLU(y_pred)\n",
        "\n",
        "        out_channel= y_pred.size()[0]\n",
        "        y_pred = y_pred.view(out_channel, -1)\n",
        "        y_pred = torch.addmm(self.FBias, y_pred, self.final.t())\n",
        "        return y_pred\n",
        "\n",
        "mlpClassifer = MLPClassifer()\n",
        "mlpClassifer.train_net(X_train, y_train, epochs=10, batchSize=50,lr=0.000789)"
      ]
    },
    {
      "cell_type": "code",
      "execution_count": null,
      "metadata": {
        "id": "R-4xraHl0muj",
        "colab": {
          "base_uri": "https://localhost:8080/",
          "height": 600
        },
        "outputId": "acdb3498-4580-4772-da56-75ac33f79b0a"
      },
      "outputs": [
        {
          "output_type": "stream",
          "name": "stderr",
          "text": [
            "100%|██████████| 200/200 [00:00<00:00, 2722.33it/s]\n"
          ]
        },
        {
          "output_type": "stream",
          "name": "stdout",
          "text": [
            "MLP classifier accuracy: 96.870000\n"
          ]
        },
        {
          "output_type": "display_data",
          "data": {
            "text/plain": [
              "<Figure size 1008x432 with 1 Axes>"
            ],
            "image/png": "[encoded data removed]"
          },
          "metadata": {
            "needs_background": "light"
          }
        },
        {
          "output_type": "stream",
          "name": "stdout",
          "text": [
            "[[0.99 0.   0.   0.   0.   0.   0.   0.   0.   0.  ]\n",
            " [0.   0.99 0.   0.   0.   0.   0.   0.   0.   0.  ]\n",
            " [0.   0.   0.97 0.   0.   0.   0.   0.01 0.   0.  ]\n",
            " [0.   0.   0.01 0.96 0.   0.02 0.   0.   0.   0.01]\n",
            " [0.   0.   0.   0.   0.97 0.   0.01 0.   0.   0.01]\n",
            " [0.   0.   0.   0.01 0.   0.98 0.   0.   0.   0.  ]\n",
            " [0.01 0.   0.   0.   0.   0.02 0.96 0.   0.   0.  ]\n",
            " [0.   0.01 0.01 0.   0.   0.   0.   0.96 0.   0.01]\n",
            " [0.01 0.   0.   0.01 0.01 0.02 0.01 0.   0.94 0.  ]\n",
            " [0.   0.01 0.   0.01 0.01 0.01 0.   0.   0.   0.96]]\n"
          ]
        }
      ],
      "source": [
        "# Plot confusion matrix\n",
        "M_mlp,acc_mlp = Confusion(X_test, y_test, mlpClassifer)\n",
        "print ('MLP classifier accuracy: %f'%acc_mlp)\n",
        "VisualizeConfussion(M_mlp)"
      ]
    },
    {
      "cell_type": "code",
      "execution_count": null,
      "metadata": {
        "id": "FLD0yjHH0bVU",
        "colab": {
          "base_uri": "https://localhost:8080/",
          "height": 457
        },
        "outputId": "91ae5ebc-69d0-430e-d2ac-b190c059a114"
      },
      "outputs": [
        {
          "output_type": "stream",
          "name": "stdout",
          "text": [
            "<class 'torch.Tensor'>\n",
            "torch.Size([50, 784])\n"
          ]
        },
        {
          "output_type": "display_data",
          "data": {
            "text/plain": [
              "<Figure size 432x288 with 0 Axes>"
            ]
          },
          "metadata": {}
        },
        {
          "output_type": "display_data",
          "data": {
            "text/plain": [
              "<Figure size 864x648 with 10 Axes>"
            ],
            "image/png": "[encoded data removed]"
          },
          "metadata": {
            "needs_background": "light"
          }
        }
      ],
      "source": [
        "# Plot filter weights corresponding to each class, you may have to reshape them to make sense out of them\n",
        "# linearClassifier.weight1.data will give you the first layer weights\n",
        "\"\"\" ==========\n",
        "YOUR CODE HERE\n",
        "========== \"\"\"\n",
        "def normalize(a):\n",
        "  # Normalised [0,1]\n",
        "  return (a - np.min(a))/np.ptp(a)\n",
        "\n",
        "print(type(mlpClassifer.hidden1.data))\n",
        "print(mlpClassifer.hidden1.shape)\n",
        "weights = mlpClassifer.hidden1.data\n",
        "# weights[:2][:10]\n",
        "\n",
        "plt.figure()\n",
        "    \n",
        "\"\"\" ==========\n",
        "YOUR CODE HERE\n",
        "========== \"\"\"\n",
        "# seti = set()\n",
        "# c = 0\n",
        "# imgs = [[0]]*10\n",
        "# X = X_train\n",
        "# y = y_train\n",
        "# while len(seti)!=10:\n",
        "#   categ = y[c]\n",
        "#   if categ not in seti:\n",
        "#     # print(len(seti))\n",
        "#     imgs[categ] = X[c]\n",
        "#     seti.add(categ)\n",
        "  \n",
        "#   c+=1\n",
        "\n",
        "# print(imgs)\n",
        "fig = plt.figure(figsize=(12, 9))\n",
        "\n",
        "for i in range(5):\n",
        "  tmp = \"25\"+str(i+1)\n",
        "  ax1 = fig.add_subplot(int(tmp))\n",
        "  plt.imshow(normalize(np.array(weights[i].reshape(28,28))), cmap=\"inferno\")\n",
        "  plt.title(\"Hidden: \"+str(i))\n",
        "\n",
        "\n",
        "for i in range(5):\n",
        "  ax1 = fig.add_subplot(2,5,i+1+5)\n",
        "  plt.imshow(normalize(np.array(weights[i+5].reshape(28,28))), cmap=\"inferno\")\n",
        "  plt.title(\"Hidden: \"+str(i+5))\n",
        "\n",
        "\n",
        "plt.show()\n"
      ]
    },
    {
      "cell_type": "code",
      "source": [],
      "metadata": {
        "id": "e9NzycLhyBY4"
      },
      "execution_count": null,
      "outputs": []
    },
    {
      "cell_type": "markdown",
      "metadata": {
        "id": "tBC6s9qQ1KKj"
      },
      "source": [
        "### Problem 2.5: Convolutional Neural Network (CNN) [8 pts]\n",
        "Here you will implement a CNN with the following architecture:\n",
        "\n",
        "* n=10\n",
        "* ReLU( Conv(kernel_size=5x5, stride=2, output_features=n) )\n",
        "* ReLU( Conv(kernel_size=5x5, stride=2, output_features=n*2) )\n",
        "* ReLU( Linear(hidden units = 64) )\n",
        "* Linear(output_features=classes)\n",
        "\n",
        "So, 2 convolutional layers, followed by 1 fully connected hidden layer and then the output layer\n",
        "\n",
        "Display the confusion matrix and accuracy after training. You should get around ~ 98 % accuracy for 10 epochs and batch size 50.<br><br>\n",
        "**Note: You are not allowed to use torch.nn.Conv2d() and torch.nn.Linear(), Using these will lead to deduction of points. Use the declared conv2d(), weight_variable() and bias_variable() functions.** Although, in practice, when you move forward after this class you will use torch.nn.Conv2d() which makes life easier and hides all the operations underneath."
      ]
    },
    {
      "cell_type": "code",
      "source": [
        "X_train=np.array(list(read('training','images')))\n",
        "y_train=np.array(list(read('training','labels')))\n",
        "X_test=np.array(list(read('testing','images')))\n",
        "y_test=np.array(list(read('testing','labels')))\n",
        "\n",
        "X_train=np.float32(np.expand_dims(X_train,-1))/255\n",
        "X_train=X_train.transpose((0,3,1,2))\n",
        "\n",
        "X_test=np.float32(np.expand_dims(X_test,-1))/255\n",
        "X_test=X_test.transpose((0,3,1,2))"
      ],
      "metadata": {
        "id": "zx1ZNOD9hDgN"
      },
      "execution_count": null,
      "outputs": []
    },
    {
      "cell_type": "code",
      "execution_count": null,
      "metadata": {
        "id": "-OhmF0NM1Clj",
        "colab": {
          "base_uri": "https://localhost:8080/"
        },
        "outputId": "1c165b7a-54b6-4d2f-86f6-77a372a8087e"
      },
      "outputs": [
        {
          "output_type": "stream",
          "name": "stdout",
          "text": [
            "torch.Size([10, 1, 5, 5])\n",
            "torch.Size([10])\n",
            "torch.Size([20, 10, 5, 5])\n",
            "torch.Size([20])\n",
            "torch.Size([64, 980])\n",
            "torch.Size([64])\n",
            "torch.Size([10, 64])\n",
            "torch.Size([10])\n"
          ]
        },
        {
          "output_type": "stream",
          "name": "stderr",
          "text": [
            "100%|██████████| 1200/1200 [00:10<00:00, 117.24it/s]\n",
            "100%|██████████| 1200/1200 [00:08<00:00, 142.14it/s]\n",
            "100%|██████████| 1200/1200 [00:08<00:00, 142.02it/s]\n",
            "100%|██████████| 1200/1200 [00:08<00:00, 144.53it/s]\n",
            "100%|██████████| 1200/1200 [00:08<00:00, 142.73it/s]\n",
            "100%|██████████| 1200/1200 [00:08<00:00, 142.15it/s]\n",
            "100%|██████████| 1200/1200 [00:08<00:00, 138.88it/s]\n",
            "100%|██████████| 1200/1200 [00:08<00:00, 140.77it/s]\n",
            "100%|██████████| 1200/1200 [00:08<00:00, 143.91it/s]\n",
            "100%|██████████| 1200/1200 [00:08<00:00, 142.45it/s]\n"
          ]
        }
      ],
      "source": [
        "# import torch.nn.functional as F\n",
        "def conv2d(x, W, stride, bias=None):\n",
        "    # x: input\n",
        "    # W: weights (out, in, kH, kW)\n",
        "    return F.conv2d(x, W, bias, stride=stride, padding=2)\n",
        "\n",
        "# # Defining a Convolutional Neural Network\n",
        "class CNNClassifer(DNN):\n",
        "    def __init__(self, in_features=28*28, classes=10, hidden=64, n=10 ,stride = 2, kernelSize = (5,5)):\n",
        "        super(CNNClassifer, self).__init__()\n",
        "        \"\"\" ==========\n",
        "        YOUR CODE HERE\n",
        "        ========== \"\"\"\n",
        "        # n=10\n",
        "        # ReLU( Conv(kernel_size=5x5, stride=2, output_features=n) )\n",
        "        # ReLU( Conv(kernel_size=5x5, stride=2, output_features=n*2) )\n",
        "        # ReLU( Linear(hidden units = 64) )\n",
        "        # Linear(output_features=classes)\n",
        "        # a(Wt,x + w0)\n",
        "        self.stride = stride\n",
        "\n",
        "        self.hidden1 = weight_variable((n,1,kernelSize[0],kernelSize[1])) # just giving the shape acc to the prob.\n",
        "        self.HBias1 = bias_variable((n))\n",
        "        print(self.hidden1.shape)\n",
        "        print(self.HBias1.shape)\n",
        "        \n",
        "        self.hidden2 = weight_variable((n*2,n,kernelSize[0],kernelSize[1])) # just giving the shape acc to the prob.\n",
        "        self.HBias2 = bias_variable(n*2)\n",
        "        print(self.hidden2.shape)\n",
        "        print(self.HBias2.shape)\n",
        "\n",
        "        # self.hidden3 = weight_variable((hidden,n*2, in_features)) # just giving the shape acc to the prob.\n",
        "        self.hidden3 = weight_variable((hidden,980)) # just giving the shape acc to the prob.\n",
        "        self.HBias3 = bias_variable((hidden))\n",
        "        print(self.hidden3.shape)\n",
        "        print(self.HBias3.shape)\n",
        "\n",
        "        self.final = weight_variable((classes, hidden)) # just giving the shape acc to the prob.\n",
        "        self.FBias = bias_variable((classes))\n",
        "        print(self.final.shape)\n",
        "        print(self.FBias.shape)\n",
        "\n",
        "        # self.ReLU = torch.nn.ReLU(inplace=True) # ReLU layer\n",
        "\n",
        "        # self.final = weight_variable((classes, hidden))  # Final number of weights to output...\n",
        "        # self.FBias = bias_variable((classes))\n",
        "        self.toOpt = [self.hidden1,self.HBias1,self.hidden2,self.HBias2,self.hidden3,self.HBias3,self.final,self.FBias]\n",
        "\n",
        "\n",
        "\n",
        "       \n",
        "    def forward(self, x):\n",
        "        \"\"\" ==========\n",
        "        YOUR CODE HERE\n",
        "        ========== \"\"\"\n",
        "        y_pred = conv2d(x,self.hidden1,self.stride,self.HBias1)\n",
        "        # print(y_pred.shape)\n",
        "        y_pred = F.relu(y_pred)\n",
        "        # print(y_pred.shape)\n",
        "\n",
        "        y_pred = conv2d(y_pred,self.hidden2,self.stride,self.HBias2)\n",
        "        y_pred = F.relu(y_pred)\n",
        "        # print(y_pred.shape)\n",
        "        out_channel= y_pred.size()[0]\n",
        "        y_pred = y_pred.contiguous().view(out_channel, -1)\n",
        "        y_pred = torch.addmm(self.HBias3, y_pred, self.hidden3.t())\n",
        "        y_pred = F.relu(y_pred)\n",
        "\n",
        "        out_channel= y_pred.size()[0]\n",
        "        y_pred = y_pred.contiguous().view(out_channel, -1)\n",
        "        y_pred = torch.addmm(self.FBias, y_pred, self.final.t())\n",
        "       \n",
        "        return y_pred\n",
        "cnnClassifer = CNNClassifer()\n",
        "cnnClassifer.train_net(X_train, y_train, epochs=10, batchSize=50,lr=0.000789)"
      ]
    },
    {
      "cell_type": "code",
      "execution_count": null,
      "metadata": {
        "id": "SWkNhBgf1Sf3",
        "colab": {
          "base_uri": "https://localhost:8080/",
          "height": 600
        },
        "outputId": "43ab49f3-a826-4acb-cf7d-7604fdff8df1"
      },
      "outputs": [
        {
          "output_type": "stream",
          "name": "stderr",
          "text": [
            "100%|██████████| 200/200 [00:00<00:00, 393.40it/s]\n"
          ]
        },
        {
          "output_type": "stream",
          "name": "stdout",
          "text": [
            "MLP classifier accuracy: 98.450000\n"
          ]
        },
        {
          "output_type": "display_data",
          "data": {
            "text/plain": [
              "<Figure size 1008x432 with 1 Axes>"
            ],
            "image/png": "[encoded data removed]"
          },
          "metadata": {
            "needs_background": "light"
          }
        },
        {
          "output_type": "stream",
          "name": "stdout",
          "text": [
            "[[0.99 0.   0.   0.   0.   0.   0.   0.   0.   0.  ]\n",
            " [0.   1.   0.   0.   0.   0.   0.   0.   0.   0.  ]\n",
            " [0.   0.   0.99 0.   0.   0.   0.   0.   0.   0.  ]\n",
            " [0.   0.   0.   0.99 0.   0.   0.   0.   0.   0.  ]\n",
            " [0.   0.   0.   0.   0.99 0.   0.   0.   0.   0.  ]\n",
            " [0.   0.   0.   0.02 0.   0.98 0.   0.   0.   0.  ]\n",
            " [0.01 0.01 0.   0.   0.   0.01 0.98 0.   0.   0.  ]\n",
            " [0.   0.01 0.01 0.   0.   0.   0.   0.98 0.   0.  ]\n",
            " [0.   0.   0.01 0.   0.   0.01 0.   0.   0.97 0.01]\n",
            " [0.   0.   0.   0.   0.01 0.   0.   0.   0.   0.98]]\n"
          ]
        }
      ],
      "source": [
        "# Plot confusion matrix and print the test accuracy of the classifier\n",
        "\"\"\" ==========\n",
        "YOUR CODE HERE\n",
        "========== \"\"\"\n",
        "M_mlp,acc_mlp = Confusion(X_test, y_test, cnnClassifer)\n",
        "print ('MLP classifier accuracy: %f'%acc_mlp)\n",
        "VisualizeConfussion(M_mlp)"
      ]
    },
    {
      "cell_type": "markdown",
      "metadata": {
        "id": "nHx9gSiK1xVp"
      },
      "source": [
        "* Note that the MLP/ConvNet approaches lead to an accuracy a little higher than the K-NN approach. \n",
        "* In general, Neural net approaches lead to significant increase in accuracy, but in this case since the problem is not too hard, the increase in accuracy is not very high.\n",
        "* However, this is still quite significant considering the fact that the ConvNets we've used are relatively simple while the accuracy achieved using K-NN is with a search over 60,000 training images for every test image.\n",
        "* You can look at the performance of various machine learning methods on this problem at http://yann.lecun.com/exdb/mnist/\n",
        "* You can learn more about neural nets/ pytorch at<br> https://pytorch.org/tutorials/beginner/deep_learning_60min_blitz.html\n",
        "* You can play with a demo of neural network created by Daniel Smilkov and Shan Carter at https://playground.tensorflow.org/"
      ]
    }
  ],
  "metadata": {
    "anaconda-cloud": {},
    "colab": {
      "collapsed_sections": [
        "jZQQIiKPnRQF",
        "aYf3GsdmpfvS",
        "6Wu-weDbqEAY",
        "mNzcCiLr0AU8",
        "zmQUOBNg0PkW"
      ],
      "provenance": [],
      "toc_visible": true
    },
    "hide_input": false,
    "kernelspec": {
      "display_name": "Python 3 (ipykernel)",
      "language": "python",
      "name": "python3"
    },
    "language_info": {
      "codemirror_mode": {
        "name": "ipython",
        "version": 3
      },
      "file_extension": ".py",
      "mimetype": "text/x-python",
      "name": "python",
      "nbconvert_exporter": "python",
      "pygments_lexer": "ipython3",
      "version": "3.9.7"
    },
    "toc": {
      "colors": {
        "hover_highlight": "#DAA520",
        "running_highlight": "#FF0000",
        "selected_highlight": "#FFD700"
      },
      "moveMenuLeft": true,
      "nav_menu": {
        "height": "123px",
        "width": "252px"
      },
      "navigate_menu": true,
      "number_sections": true,
      "sideBar": true,
      "threshold": 4,
      "toc_cell": false,
      "toc_section_display": "block",
      "toc_window_display": false,
      "widenNotebook": false
    }
  },
  "nbformat": 4,
  "nbformat_minor": 0
}